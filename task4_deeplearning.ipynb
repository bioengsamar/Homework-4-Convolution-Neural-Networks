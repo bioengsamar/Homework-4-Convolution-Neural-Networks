{
  "nbformat": 4,
  "nbformat_minor": 0,
  "metadata": {
    "colab": {
      "name": "task4_deeplearning.ipynb",
      "provenance": [],
      "collapsed_sections": []
    },
    "kernelspec": {
      "display_name": "Python 3",
      "name": "python3"
    },
    "language_info": {
      "name": "python"
    },
    "accelerator": "GPU"
  },
  "cells": [
    {
      "cell_type": "code",
      "metadata": {
        "colab": {
          "base_uri": "https://localhost:8080/"
        },
        "id": "1nk5GSGY7EkL",
        "outputId": "42596e68-051d-4e32-ddc6-9fa891876282"
      },
      "source": [
        "#point(a)\n",
        "import tensorflow as tf\n",
        "\n",
        "from tensorflow.keras import datasets, layers, models\n",
        "import matplotlib.pyplot as plt\n",
        "\n",
        "\n",
        "(train_images, train_labels), (test_images, test_labels) = datasets.cifar10.load_data()\n",
        "\n",
        "# Normalize pixel values to be between 0 and 1\n",
        "train_images, test_images = train_images / 255.0, test_images / 255.0\n",
        "\n",
        "model = models.Sequential()\n",
        "\n",
        "#Create the convolutional base\n",
        "model.add(layers.Conv2D(32, (3, 3), activation='relu', input_shape=(32, 32, 3)))\n",
        "model.add(layers.MaxPooling2D((2, 2)))\n",
        "\n",
        "model.add(layers.Conv2D(64, (3, 3), activation='relu'))\n",
        "model.add(layers.MaxPooling2D((2, 2)))\n",
        "\n",
        "model.add(layers.Conv2D(128, (3, 3), activation='relu'))\n",
        "model.add(layers.MaxPooling2D((2, 2)))\n",
        "\n",
        "#Add Dense layers on top\n",
        "model.add(layers.Flatten())\n",
        "model.add(layers.Dense(128, activation='relu'))\n",
        "model.add(layers.Dense(10, activation='softmax'))\n",
        "\n",
        "model.summary()\n",
        "\n",
        "#Compile and train the model\n",
        "model.compile(optimizer=tf.keras.optimizers.SGD(\n",
        "    learning_rate=0.1, momentum=0.0, nesterov=True, name='SGD'),\n",
        "    loss=tf.keras.losses.SparseCategoricalCrossentropy(from_logits=False),metrics=['accuracy'])\n",
        "\n",
        "history = model.fit(train_images, train_labels, epochs=10, \n",
        "                    validation_data=(test_images, test_labels))\n",
        "\n"
      ],
      "execution_count": null,
      "outputs": [
        {
          "output_type": "stream",
          "text": [
            "Model: \"sequential_9\"\n",
            "_________________________________________________________________\n",
            "Layer (type)                 Output Shape              Param #   \n",
            "=================================================================\n",
            "conv2d_27 (Conv2D)           (None, 30, 30, 32)        896       \n",
            "_________________________________________________________________\n",
            "max_pooling2d_27 (MaxPooling (None, 15, 15, 32)        0         \n",
            "_________________________________________________________________\n",
            "conv2d_28 (Conv2D)           (None, 13, 13, 64)        18496     \n",
            "_________________________________________________________________\n",
            "max_pooling2d_28 (MaxPooling (None, 6, 6, 64)          0         \n",
            "_________________________________________________________________\n",
            "conv2d_29 (Conv2D)           (None, 4, 4, 128)         73856     \n",
            "_________________________________________________________________\n",
            "max_pooling2d_29 (MaxPooling (None, 2, 2, 128)         0         \n",
            "_________________________________________________________________\n",
            "flatten_9 (Flatten)          (None, 512)               0         \n",
            "_________________________________________________________________\n",
            "dense_38 (Dense)             (None, 128)               65664     \n",
            "_________________________________________________________________\n",
            "dense_39 (Dense)             (None, 10)                1290      \n",
            "=================================================================\n",
            "Total params: 160,202\n",
            "Trainable params: 160,202\n",
            "Non-trainable params: 0\n",
            "_________________________________________________________________\n",
            "Epoch 1/10\n",
            "1563/1563 [==============================] - 6s 4ms/step - loss: 1.7375 - accuracy: 0.3657 - val_loss: 1.4262 - val_accuracy: 0.4847\n",
            "Epoch 2/10\n",
            "1563/1563 [==============================] - 5s 3ms/step - loss: 1.2643 - accuracy: 0.5488 - val_loss: 1.2024 - val_accuracy: 0.5728\n",
            "Epoch 3/10\n",
            "1563/1563 [==============================] - 5s 3ms/step - loss: 1.0750 - accuracy: 0.6219 - val_loss: 1.2183 - val_accuracy: 0.5766\n",
            "Epoch 4/10\n",
            "1563/1563 [==============================] - 5s 3ms/step - loss: 0.9430 - accuracy: 0.6693 - val_loss: 1.0119 - val_accuracy: 0.6528\n",
            "Epoch 5/10\n",
            "1563/1563 [==============================] - 5s 3ms/step - loss: 0.8434 - accuracy: 0.7050 - val_loss: 1.0288 - val_accuracy: 0.6475\n",
            "Epoch 6/10\n",
            "1563/1563 [==============================] - 5s 3ms/step - loss: 0.7563 - accuracy: 0.7340 - val_loss: 1.0163 - val_accuracy: 0.6567\n",
            "Epoch 7/10\n",
            "1563/1563 [==============================] - 5s 3ms/step - loss: 0.6877 - accuracy: 0.7613 - val_loss: 0.9796 - val_accuracy: 0.6740\n",
            "Epoch 8/10\n",
            "1563/1563 [==============================] - 5s 3ms/step - loss: 0.6326 - accuracy: 0.7785 - val_loss: 0.9758 - val_accuracy: 0.6884\n",
            "Epoch 9/10\n",
            "1563/1563 [==============================] - 5s 3ms/step - loss: 0.5801 - accuracy: 0.7934 - val_loss: 1.0748 - val_accuracy: 0.6603\n",
            "Epoch 10/10\n",
            "1563/1563 [==============================] - 5s 3ms/step - loss: 0.5299 - accuracy: 0.8138 - val_loss: 1.0305 - val_accuracy: 0.6900\n"
          ],
          "name": "stdout"
        }
      ]
    },
    {
      "cell_type": "code",
      "metadata": {
        "colab": {
          "base_uri": "https://localhost:8080/",
          "height": 313
        },
        "id": "v19EX5YoIT38",
        "outputId": "e13921c7-17d3-4df7-969b-208f3e9e61dd"
      },
      "source": [
        "#Evaluate the model\n",
        "plt.plot(history.history['loss'], label='train_loss')\n",
        "plt.plot(history.history['val_loss'], label = 'val_loss')\n",
        "plt.xlabel('Epoch')\n",
        "plt.ylabel('Loss')\n",
        "#plt.ylim([0.5, 1])\n",
        "plt.legend(loc='upper right')\n",
        "plt.savefig('pointa.png')\n",
        "\n",
        "test_loss, test_acc = model.evaluate(test_images,  test_labels, verbose=2)"
      ],
      "execution_count": null,
      "outputs": [
        {
          "output_type": "stream",
          "text": [
            "313/313 - 1s - loss: 1.0305 - accuracy: 0.6900\n"
          ],
          "name": "stdout"
        },
        {
          "output_type": "display_data",
          "data": {
            "image/png": "[encoded data removed]",
            "text/plain": [
              "<Figure size 432x288 with 1 Axes>"
            ]
          },
          "metadata": {
            "tags": []
          }
        }
      ]
    },
    {
      "cell_type": "code",
      "metadata": {
        "colab": {
          "base_uri": "https://localhost:8080/"
        },
        "id": "7jI30HB_J-kN",
        "outputId": "f1241e86-60d7-4637-eeb3-816343e27745"
      },
      "source": [
        "print(test_acc)\n"
      ],
      "execution_count": null,
      "outputs": [
        {
          "output_type": "stream",
          "text": [
            "0.6899999976158142\n"
          ],
          "name": "stdout"
        }
      ]
    },
    {
      "cell_type": "code",
      "metadata": {
        "colab": {
          "base_uri": "https://localhost:8080/"
        },
        "id": "rpYCgVfZOJrE",
        "outputId": "f0640476-9210-4b43-8c41-6e7259b5fe2c"
      },
      "source": [
        "#point(b)\n",
        "import tensorflow as tf\n",
        "from keras import optimizers\n",
        "from tensorflow.keras import datasets, layers, models\n",
        "import matplotlib.pyplot as plt\n",
        "\n",
        "\n",
        "(train_images, train_labels), (test_images, test_labels) = datasets.cifar10.load_data()\n",
        "\n",
        "# Normalize pixel values to be between 0 and 1\n",
        "train_images, test_images = train_images / 255.0, test_images / 255.0\n",
        "\n",
        "model = models.Sequential()\n",
        "\n",
        "model.add(layers.Flatten(input_shape=(32, 32, 3)))\n",
        "model.add(layers.Dense(512, activation='relu'))\n",
        "model.add(layers.Dense(512, activation='relu'))\n",
        "model.add(layers.Dense(512, activation='relu'))\n",
        "model.add(layers.Dense(512, activation='relu'))\n",
        "model.add(layers.Dense(512, activation='relu'))\n",
        "model.add(layers.Dense(10, activation='softmax'))\n",
        "\n",
        "\n",
        "#Compile and train the model\n",
        "model.compile(optimizer=tf.keras.optimizers.SGD(\n",
        "    learning_rate=0.11, momentum=0.0, nesterov=True, name='SGD'),\n",
        "    loss=tf.keras.losses.SparseCategoricalCrossentropy(from_logits=False),metrics=['accuracy'])\n",
        "\n",
        "history = model.fit(train_images, train_labels, epochs=10, \n",
        "                    validation_data=(test_images, test_labels))"
      ],
      "execution_count": null,
      "outputs": [
        {
          "output_type": "stream",
          "text": [
            "Epoch 1/10\n",
            "1563/1563 [==============================] - 5s 3ms/step - loss: 1.9209 - accuracy: 0.3005 - val_loss: 1.8522 - val_accuracy: 0.3238\n",
            "Epoch 2/10\n",
            "1563/1563 [==============================] - 4s 3ms/step - loss: 1.7169 - accuracy: 0.3832 - val_loss: 1.6608 - val_accuracy: 0.4006\n",
            "Epoch 3/10\n",
            "1563/1563 [==============================] - 4s 3ms/step - loss: 1.6233 - accuracy: 0.4186 - val_loss: 1.6591 - val_accuracy: 0.4121\n",
            "Epoch 4/10\n",
            "1563/1563 [==============================] - 5s 3ms/step - loss: 1.5578 - accuracy: 0.4398 - val_loss: 1.6154 - val_accuracy: 0.4329\n",
            "Epoch 5/10\n",
            "1563/1563 [==============================] - 5s 3ms/step - loss: 1.5048 - accuracy: 0.4584 - val_loss: 1.5456 - val_accuracy: 0.4435\n",
            "Epoch 6/10\n",
            "1563/1563 [==============================] - 5s 3ms/step - loss: 1.4600 - accuracy: 0.4784 - val_loss: 1.4924 - val_accuracy: 0.4666\n",
            "Epoch 7/10\n",
            "1563/1563 [==============================] - 5s 3ms/step - loss: 1.4130 - accuracy: 0.4915 - val_loss: 1.5057 - val_accuracy: 0.4654\n",
            "Epoch 8/10\n",
            "1563/1563 [==============================] - 5s 3ms/step - loss: 1.3702 - accuracy: 0.5076 - val_loss: 1.4694 - val_accuracy: 0.4789\n",
            "Epoch 9/10\n",
            "1563/1563 [==============================] - 5s 3ms/step - loss: 1.3342 - accuracy: 0.5203 - val_loss: 1.4485 - val_accuracy: 0.4917\n",
            "Epoch 10/10\n",
            "1563/1563 [==============================] - 5s 3ms/step - loss: 1.2960 - accuracy: 0.5338 - val_loss: 1.4377 - val_accuracy: 0.5020\n"
          ],
          "name": "stdout"
        }
      ]
    },
    {
      "cell_type": "code",
      "metadata": {
        "colab": {
          "base_uri": "https://localhost:8080/",
          "height": 313
        },
        "id": "hE419ul-U4bk",
        "outputId": "ff2378d7-a5b5-477d-9fa8-ca839f2466c1"
      },
      "source": [
        "#Evaluate the model\n",
        "plt.plot(history.history['loss'], label='train_loss')\n",
        "plt.plot(history.history['val_loss'], label = 'val_loss')\n",
        "plt.xlabel('Epoch')\n",
        "plt.ylabel('Loss')\n",
        "#plt.ylim([0.3, 0.8])\n",
        "plt.legend(loc='upper right')\n",
        "plt.savefig('pointp.png')\n",
        "\n",
        "test_loss, test_acc = model.evaluate(test_images,  test_labels, verbose=2)"
      ],
      "execution_count": null,
      "outputs": [
        {
          "output_type": "stream",
          "text": [
            "313/313 - 1s - loss: 1.4377 - accuracy: 0.5020\n"
          ],
          "name": "stdout"
        },
        {
          "output_type": "display_data",
          "data": {
            "image/png": "[encoded data removed]",
            "text/plain": [
              "<Figure size 432x288 with 1 Axes>"
            ]
          },
          "metadata": {
            "tags": []
          }
        }
      ]
    },
    {
      "cell_type": "code",
      "metadata": {
        "colab": {
          "base_uri": "https://localhost:8080/"
        },
        "id": "DbVj0P3a5-_u",
        "outputId": "7835567d-6cf6-4871-b90a-fa81c0247a72"
      },
      "source": [
        "#point(c)\n",
        "import tensorflow as tf\n",
        "\n",
        "from tensorflow.keras import datasets, layers, models\n",
        "import matplotlib.pyplot as plt\n",
        "\n",
        "\n",
        "(train_images, train_labels), (test_images, test_labels) = datasets.cifar10.load_data()\n",
        "\n",
        "# Normalize pixel values to be between 0 and 1\n",
        "train_images, test_images = train_images / 255.0, test_images / 255.0\n",
        "\n",
        "model = models.Sequential()\n",
        "\n",
        "#Create the convolutional base\n",
        "model.add(layers.Conv2D(32, (3, 3), activation='relu', input_shape=(32, 32, 3)))\n",
        "model.add(layers.MaxPooling2D((2, 2)))\n",
        "#model.add(layers.Dropout(0.5))\n",
        "\n",
        "model.add(layers.Conv2D(64, (3, 3), activation='relu'))\n",
        "model.add(layers.MaxPooling2D((2, 2)))\n",
        "#model.add(layers.Dropout(0.5))\n",
        "\n",
        "model.add(layers.Conv2D(128, (3, 3), activation='relu'))\n",
        "model.add(layers.MaxPooling2D((2, 2)))\n",
        "#model.add(layers.Dropout(0.5))\n",
        "\n",
        "#Add Dense layers on top\n",
        "model.add(layers.Flatten(input_shape=(32, 32, 3)))\n",
        "\n",
        "model.add(layers.Dense(512, activation='relu'))\n",
        "#model.add(layers.Dropout(0.5))\n",
        "\n",
        "model.add(layers.Dense(512, activation='relu'))\n",
        "#model.add(layers.Dropout(0.5))\n",
        "\n",
        "model.add(layers.Dense(512, activation='relu'))\n",
        "#model.add(layers.Dropout(0.5))\n",
        "\n",
        "model.add(layers.Dense(512, activation='relu'))\n",
        "#model.add(layers.Dropout(0.5))\n",
        "\n",
        "model.add(layers.Dense(512, activation='relu'))\n",
        "#model.add(layers.Dropout(0.5))\n",
        "\n",
        "model.add(layers.Dense(10, activation='softmax'))\n",
        "\n",
        "#Compile and train the model\n",
        "model.compile(optimizer=tf.keras.optimizers.SGD(\n",
        "    learning_rate=0.11, momentum=0.0, nesterov=True, name='SGD'),\n",
        "    loss=tf.keras.losses.SparseCategoricalCrossentropy(from_logits=False),metrics=['accuracy'])\n",
        "\n",
        "history = model.fit(train_images, train_labels, epochs=10, \n",
        "                    validation_data=(test_images, test_labels))"
      ],
      "execution_count": null,
      "outputs": [
        {
          "output_type": "stream",
          "text": [
            "Epoch 1/10\n",
            "1563/1563 [==============================] - 7s 4ms/step - loss: 1.9094 - accuracy: 0.2924 - val_loss: 1.5458 - val_accuracy: 0.4504\n",
            "Epoch 2/10\n",
            "1563/1563 [==============================] - 6s 4ms/step - loss: 1.4131 - accuracy: 0.4917 - val_loss: 1.2744 - val_accuracy: 0.5476\n",
            "Epoch 3/10\n",
            "1563/1563 [==============================] - 6s 4ms/step - loss: 1.1853 - accuracy: 0.5822 - val_loss: 1.1765 - val_accuracy: 0.5895\n",
            "Epoch 4/10\n",
            "1563/1563 [==============================] - 6s 4ms/step - loss: 1.0272 - accuracy: 0.6404 - val_loss: 1.0569 - val_accuracy: 0.6314\n",
            "Epoch 5/10\n",
            "1563/1563 [==============================] - 6s 4ms/step - loss: 0.9050 - accuracy: 0.6857 - val_loss: 1.0252 - val_accuracy: 0.6481\n",
            "Epoch 6/10\n",
            "1563/1563 [==============================] - 6s 4ms/step - loss: 0.7971 - accuracy: 0.7241 - val_loss: 0.9783 - val_accuracy: 0.6680\n",
            "Epoch 7/10\n",
            "1563/1563 [==============================] - 6s 4ms/step - loss: 0.7081 - accuracy: 0.7530 - val_loss: 1.0048 - val_accuracy: 0.6728\n",
            "Epoch 8/10\n",
            "1563/1563 [==============================] - 6s 4ms/step - loss: 0.6216 - accuracy: 0.7837 - val_loss: 1.0947 - val_accuracy: 0.6650\n",
            "Epoch 9/10\n",
            "1563/1563 [==============================] - 6s 4ms/step - loss: 0.5503 - accuracy: 0.8067 - val_loss: 0.9936 - val_accuracy: 0.6890\n",
            "Epoch 10/10\n",
            "1563/1563 [==============================] - 6s 4ms/step - loss: 0.4914 - accuracy: 0.8272 - val_loss: 1.0032 - val_accuracy: 0.6919\n"
          ],
          "name": "stdout"
        }
      ]
    },
    {
      "cell_type": "code",
      "metadata": {
        "colab": {
          "base_uri": "https://localhost:8080/",
          "height": 313
        },
        "id": "0BXUNJTnG665",
        "outputId": "d753f6a7-4f0c-4696-c93c-503df5f56afc"
      },
      "source": [
        "#Evaluate the model\n",
        "plt.plot(history.history['loss'], label='train_loss')\n",
        "plt.plot(history.history['val_loss'], label = 'val_loss')\n",
        "plt.xlabel('Epoch')\n",
        "plt.ylabel('Loss')\n",
        "#plt.ylim([0.3, 0.8])\n",
        "plt.legend(loc='upper right')\n",
        "plt.savefig('pointc.png')\n",
        "\n",
        "test_loss, test_acc = model.evaluate(test_images,  test_labels, verbose=2)"
      ],
      "execution_count": null,
      "outputs": [
        {
          "output_type": "stream",
          "text": [
            "313/313 - 1s - loss: 0.9775 - accuracy: 0.6911\n"
          ],
          "name": "stdout"
        },
        {
          "output_type": "display_data",
          "data": {
            "image/png": "[encoded data removed]",
            "text/plain": [
              "<Figure size 432x288 with 1 Axes>"
            ]
          },
          "metadata": {
            "tags": []
          }
        }
      ]
    },
    {
      "cell_type": "code",
      "metadata": {
        "colab": {
          "base_uri": "https://localhost:8080/"
        },
        "id": "iOnwKlw93839",
        "outputId": "35337b02-0b8f-46da-a63d-6f9344cccb94"
      },
      "source": [
        "#point(d)\n",
        "import tensorflow as tf\n",
        "\n",
        "from tensorflow.keras import datasets, layers, models\n",
        "import matplotlib.pyplot as plt\n",
        "\n",
        "\n",
        "(train_images, train_labels), (test_images, test_labels) = datasets.cifar10.load_data()\n",
        "\n",
        "# Normalize pixel values to be between 0 and 1\n",
        "train_images, test_images = train_images / 255.0, test_images / 255.0\n",
        "\n",
        "model = models.Sequential()\n",
        "\n",
        "#Create the convolutional base\n",
        "model.add(layers.Conv2D(32, (3, 3), activation='sigmoid', input_shape=(32, 32, 3)))\n",
        "model.add(layers.MaxPooling2D((2, 2)))\n",
        "\n",
        "model.add(layers.Conv2D(64, (3, 3), activation='sigmoid'))\n",
        "model.add(layers.MaxPooling2D((2, 2)))\n",
        "\n",
        "model.add(layers.Conv2D(128, (3, 3), activation='sigmoid'))\n",
        "model.add(layers.MaxPooling2D((2, 2)))\n",
        "\n",
        "#Add Dense layers on top\n",
        "model.add(layers.Flatten())\n",
        "model.add(layers.Dense(128, activation='sigmoid'))\n",
        "model.add(layers.Dense(10, activation='softmax'))\n",
        "\n",
        "model.summary()\n",
        "\n",
        "#Compile and train the model\n",
        "model.compile(optimizer=tf.keras.optimizers.SGD(\n",
        "    learning_rate=0.1, momentum=0.0, nesterov=True, name='SGD'),\n",
        "    loss=tf.keras.losses.SparseCategoricalCrossentropy(from_logits=False),metrics=['accuracy'])\n",
        "\n",
        "history = model.fit(train_images, train_labels, epochs=10, \n",
        "                    validation_data=(test_images, test_labels))\n",
        "\n",
        "\n",
        "\n"
      ],
      "execution_count": null,
      "outputs": [
        {
          "output_type": "stream",
          "text": [
            "Downloading data from https://www.cs.toronto.edu/~kriz/cifar-10-python.tar.gz\n",
            "170500096/170498071 [==============================] - 4s 0us/step\n",
            "Model: \"sequential\"\n",
            "_________________________________________________________________\n",
            "Layer (type)                 Output Shape              Param #   \n",
            "=================================================================\n",
            "conv2d (Conv2D)              (None, 30, 30, 32)        896       \n",
            "_________________________________________________________________\n",
            "max_pooling2d (MaxPooling2D) (None, 15, 15, 32)        0         \n",
            "_________________________________________________________________\n",
            "conv2d_1 (Conv2D)            (None, 13, 13, 64)        18496     \n",
            "_________________________________________________________________\n",
            "max_pooling2d_1 (MaxPooling2 (None, 6, 6, 64)          0         \n",
            "_________________________________________________________________\n",
            "conv2d_2 (Conv2D)            (None, 4, 4, 128)         73856     \n",
            "_________________________________________________________________\n",
            "max_pooling2d_2 (MaxPooling2 (None, 2, 2, 128)         0         \n",
            "_________________________________________________________________\n",
            "flatten (Flatten)            (None, 512)               0         \n",
            "_________________________________________________________________\n",
            "dense (Dense)                (None, 128)               65664     \n",
            "_________________________________________________________________\n",
            "dense_1 (Dense)              (None, 10)                1290      \n",
            "=================================================================\n",
            "Total params: 160,202\n",
            "Trainable params: 160,202\n",
            "Non-trainable params: 0\n",
            "_________________________________________________________________\n",
            "Epoch 1/10\n",
            "1563/1563 [==============================] - 37s 4ms/step - loss: 2.3158 - accuracy: 0.1010 - val_loss: 2.3042 - val_accuracy: 0.1000\n",
            "Epoch 2/10\n",
            "1563/1563 [==============================] - 6s 4ms/step - loss: 2.3046 - accuracy: 0.0991 - val_loss: 2.3030 - val_accuracy: 0.1000\n",
            "Epoch 3/10\n",
            "1563/1563 [==============================] - 6s 4ms/step - loss: 2.3040 - accuracy: 0.0993 - val_loss: 2.3037 - val_accuracy: 0.1000\n",
            "Epoch 4/10\n",
            "1563/1563 [==============================] - 6s 4ms/step - loss: 2.3038 - accuracy: 0.0989 - val_loss: 2.3033 - val_accuracy: 0.1000\n",
            "Epoch 5/10\n",
            "1563/1563 [==============================] - 6s 4ms/step - loss: 2.3034 - accuracy: 0.0999 - val_loss: 2.3034 - val_accuracy: 0.1000\n",
            "Epoch 6/10\n",
            "1563/1563 [==============================] - 6s 4ms/step - loss: 2.3033 - accuracy: 0.1001 - val_loss: 2.3030 - val_accuracy: 0.1000\n",
            "Epoch 7/10\n",
            "1563/1563 [==============================] - 6s 4ms/step - loss: 2.3034 - accuracy: 0.1001 - val_loss: 2.3037 - val_accuracy: 0.1000\n",
            "Epoch 8/10\n",
            "1563/1563 [==============================] - 6s 4ms/step - loss: 2.3035 - accuracy: 0.1006 - val_loss: 2.3033 - val_accuracy: 0.1000\n",
            "Epoch 9/10\n",
            "1563/1563 [==============================] - 6s 4ms/step - loss: 2.3035 - accuracy: 0.1006 - val_loss: 2.3033 - val_accuracy: 0.1000\n",
            "Epoch 10/10\n",
            "1563/1563 [==============================] - 6s 4ms/step - loss: 2.3035 - accuracy: 0.0997 - val_loss: 2.3034 - val_accuracy: 0.1000\n"
          ],
          "name": "stdout"
        }
      ]
    },
    {
      "cell_type": "code",
      "metadata": {
        "colab": {
          "base_uri": "https://localhost:8080/",
          "height": 313
        },
        "id": "cskFAWfUXPg5",
        "outputId": "eb27f066-b0f4-4bb4-c0ee-1ca3020f60e2"
      },
      "source": [
        "#Evaluate the model\n",
        "plt.plot(history.history['loss'], label='train_loss')\n",
        "plt.plot(history.history['val_loss'], label = 'val_loss')\n",
        "plt.xlabel('Epoch')\n",
        "plt.ylabel('Loss')\n",
        "#plt.ylim([0.3, 0.8])\n",
        "plt.legend(loc='upper right')\n",
        "plt.savefig('pointd.png')\n",
        "\n",
        "test_loss, test_acc = model.evaluate(test_images,  test_labels, verbose=2)"
      ],
      "execution_count": null,
      "outputs": [
        {
          "output_type": "stream",
          "text": [
            "313/313 - 1s - loss: 2.3034 - accuracy: 0.1000\n"
          ],
          "name": "stdout"
        },
        {
          "output_type": "display_data",
          "data": {
            "image/png": "[encoded data removed]",
            "text/plain": [
              "<Figure size 432x288 with 1 Axes>"
            ]
          },
          "metadata": {
            "tags": []
          }
        }
      ]
    },
    {
      "cell_type": "code",
      "metadata": {
        "colab": {
          "base_uri": "https://localhost:8080/"
        },
        "id": "nv5VvyIpZpKP",
        "outputId": "a26144e5-e1d7-49aa-bd0f-8a5eababf464"
      },
      "source": [
        "#point(e) with dropout\n",
        "import tensorflow as tf\n",
        "from tensorflow.keras import datasets, layers, models\n",
        "import matplotlib.pyplot as plt\n",
        "\n",
        "\n",
        "(train_images, train_labels), (test_images, test_labels) = datasets.cifar10.load_data()\n",
        "\n",
        "# Normalize pixel values to be between 0 and 1\n",
        "train_images, test_images = train_images / 255.0, test_images / 255.0\n",
        "\n",
        "model = models.Sequential()\n",
        "model.add(layers.Conv2D(filters=32, kernel_size = 2, padding = 'same',activation = 'relu',input_shape=(32,32,3)))\n",
        "model.add(layers.MaxPooling2D(pool_size=2))\n",
        "\n",
        "model.add(layers.Conv2D(filters=64, kernel_size = 2, padding = 'same',activation = 'relu'))\n",
        "model.add(layers.MaxPooling2D(pool_size=2))\n",
        "\n",
        "model.add(layers.Conv2D(filters=128, kernel_size = 2, padding = 'same',activation = 'relu'))\n",
        "model.add(layers.MaxPooling2D(pool_size=2))\n",
        "model.add(layers.Dropout(0.3))\n",
        "\n",
        "model.add(layers.Flatten())\n",
        "model.add(layers.Dense(128,activation='relu'))\n",
        "model.add(layers.Dropout(0.4))\n",
        "model.add(layers.Dense(10,activation='softmax'))\n",
        "\n",
        "#Compile and train the model\n",
        "model.compile(optimizer=tf.keras.optimizers.SGD(\n",
        "    learning_rate=0.1, momentum=0.0, nesterov=True, name='SGD'),\n",
        "    loss=tf.keras.losses.SparseCategoricalCrossentropy(from_logits=False),metrics=['accuracy'])\n",
        "\n",
        "history = model.fit(train_images, train_labels, epochs=10, \n",
        "                    validation_data=(test_images, test_labels))"
      ],
      "execution_count": null,
      "outputs": [
        {
          "output_type": "stream",
          "text": [
            "Epoch 1/10\n",
            "1563/1563 [==============================] - 39s 5ms/step - loss: 1.8229 - accuracy: 0.3334 - val_loss: 1.4663 - val_accuracy: 0.4630\n",
            "Epoch 2/10\n",
            "1563/1563 [==============================] - 7s 5ms/step - loss: 1.4455 - accuracy: 0.4757 - val_loss: 1.2948 - val_accuracy: 0.5348\n",
            "Epoch 3/10\n",
            "1563/1563 [==============================] - 7s 5ms/step - loss: 1.2839 - accuracy: 0.5407 - val_loss: 1.0726 - val_accuracy: 0.6183\n",
            "Epoch 4/10\n",
            "1563/1563 [==============================] - 7s 5ms/step - loss: 1.1594 - accuracy: 0.5882 - val_loss: 1.1103 - val_accuracy: 0.6011\n",
            "Epoch 5/10\n",
            "1563/1563 [==============================] - 7s 5ms/step - loss: 1.0756 - accuracy: 0.6208 - val_loss: 0.9498 - val_accuracy: 0.6675\n",
            "Epoch 6/10\n",
            "1563/1563 [==============================] - 7s 5ms/step - loss: 1.0167 - accuracy: 0.6423 - val_loss: 0.9751 - val_accuracy: 0.6658\n",
            "Epoch 7/10\n",
            "1563/1563 [==============================] - 7s 5ms/step - loss: 0.9655 - accuracy: 0.6581 - val_loss: 0.8976 - val_accuracy: 0.6856\n",
            "Epoch 8/10\n",
            "1563/1563 [==============================] - 7s 5ms/step - loss: 0.9323 - accuracy: 0.6700 - val_loss: 0.8972 - val_accuracy: 0.6836\n",
            "Epoch 9/10\n",
            "1563/1563 [==============================] - 7s 5ms/step - loss: 0.9014 - accuracy: 0.6844 - val_loss: 0.8327 - val_accuracy: 0.7099\n",
            "Epoch 10/10\n",
            "1563/1563 [==============================] - 8s 5ms/step - loss: 0.8724 - accuracy: 0.6929 - val_loss: 0.9738 - val_accuracy: 0.6661\n"
          ],
          "name": "stdout"
        }
      ]
    },
    {
      "cell_type": "code",
      "metadata": {
        "colab": {
          "base_uri": "https://localhost:8080/",
          "height": 313
        },
        "id": "vMsUOT9vv1R2",
        "outputId": "f6433416-20b3-4947-fcd1-55f18ec98364"
      },
      "source": [
        "#Evaluate the model\n",
        "plt.plot(history.history['accuracy'], label='train_accuracy')\n",
        "plt.plot(history.history['val_accuracy'], label = 'val_accuracy')\n",
        "plt.xlabel('Epoch')\n",
        "plt.ylabel('accuracy')\n",
        "#plt.ylim([0.3, 1.0])\n",
        "plt.legend(loc='lower right')\n",
        "plt.savefig('pointe.png')\n",
        "test_loss, test_acc = model.evaluate(test_images,  test_labels, verbose=2)"
      ],
      "execution_count": null,
      "outputs": [
        {
          "output_type": "stream",
          "text": [
            "313/313 - 1s - loss: 0.9738 - accuracy: 0.6661\n"
          ],
          "name": "stdout"
        },
        {
          "output_type": "display_data",
          "data": {
            "image/png": "[encoded data removed]",
            "text/plain": [
              "<Figure size 432x288 with 1 Axes>"
            ]
          },
          "metadata": {
            "tags": [],
            "needs_background": "light"
          }
        }
      ]
    },
    {
      "cell_type": "code",
      "metadata": {
        "colab": {
          "base_uri": "https://localhost:8080/"
        },
        "id": "h0m358AvwvCu",
        "outputId": "150af862-d03a-4581-997a-b14c0157d5e4"
      },
      "source": [
        "# point(e) with data augmentation\n",
        "import tensorflow as tf\n",
        "from tensorflow.keras import datasets, layers, models\n",
        "from tensorflow.keras.preprocessing.image import ImageDataGenerator\n",
        "import matplotlib.pyplot as plt\n",
        "\n",
        "\n",
        "(train_images, train_labels), (test_images, test_labels) = datasets.cifar10.load_data()\n",
        "\n",
        "# Normalize pixel values to be between 0 and 1\n",
        "train_images, test_images = train_images / 255.0, test_images / 255.0\n",
        "\n",
        "aug = ImageDataGenerator(\n",
        "\trotation_range=20,\n",
        "\tzoom_range=0.15,\n",
        "\twidth_shift_range=0.2,\n",
        "\theight_shift_range=0.2,\n",
        "\tshear_range=0.15)\n",
        "\n",
        "model = models.Sequential()\n",
        "model.add(layers.Conv2D(filters=32, kernel_size = 2, padding = 'same',activation = 'relu',input_shape=(32,32,3)))\n",
        "model.add(layers.MaxPooling2D(pool_size=2))\n",
        "\n",
        "model.add(layers.Conv2D(filters=64, kernel_size = 2, padding = 'same',activation = 'relu'))\n",
        "model.add(layers.MaxPooling2D(pool_size=2))\n",
        "\n",
        "model.add(layers.Conv2D(filters=128, kernel_size = 2, padding = 'same',activation = 'relu'))\n",
        "model.add(layers.MaxPooling2D(pool_size=2))\n",
        "model.add(layers.Dropout(0.3))\n",
        "\n",
        "model.add(layers.Flatten())\n",
        "model.add(layers.Dense(128,activation='relu'))\n",
        "model.add(layers.Dropout(0.4))\n",
        "model.add(layers.Dense(10,activation='softmax'))\n",
        "\n",
        "#Compile and train the model\n",
        "model.compile(optimizer=tf.keras.optimizers.SGD(\n",
        "    learning_rate=0.1, momentum=0.0, nesterov=True, name='SGD'),\n",
        "    loss=tf.keras.losses.SparseCategoricalCrossentropy(from_logits=False),metrics=['accuracy'])\n",
        "\n",
        "history = model.fit(aug.flow(train_images, train_labels), epochs=10, \n",
        "                    validation_data=(test_images, test_labels))"
      ],
      "execution_count": null,
      "outputs": [
        {
          "output_type": "stream",
          "text": [
            "Epoch 1/10\n",
            "1563/1563 [==============================] - 28s 18ms/step - loss: 1.9936 - accuracy: 0.1046 - val_loss: 1.5825 - val_accuracy: 0.1168\n",
            "Epoch 2/10\n",
            "1563/1563 [==============================] - 28s 18ms/step - loss: 1.7178 - accuracy: 0.0870 - val_loss: 1.4888 - val_accuracy: 0.0804\n",
            "Epoch 3/10\n",
            "1563/1563 [==============================] - 27s 18ms/step - loss: 1.6171 - accuracy: 0.0913 - val_loss: 1.4752 - val_accuracy: 0.0627\n",
            "Epoch 4/10\n",
            "1563/1563 [==============================] - 27s 17ms/step - loss: 1.5443 - accuracy: 0.0910 - val_loss: 1.2679 - val_accuracy: 0.0765\n",
            "Epoch 5/10\n",
            "1563/1563 [==============================] - 29s 18ms/step - loss: 1.4863 - accuracy: 0.0946 - val_loss: 1.2467 - val_accuracy: 0.0699\n",
            "Epoch 6/10\n",
            "1563/1563 [==============================] - 29s 18ms/step - loss: 1.4346 - accuracy: 0.0930 - val_loss: 1.2287 - val_accuracy: 0.0859\n",
            "Epoch 7/10\n",
            "1563/1563 [==============================] - 28s 18ms/step - loss: 1.3954 - accuracy: 0.0948 - val_loss: 1.1915 - val_accuracy: 0.1393\n",
            "Epoch 8/10\n",
            "1563/1563 [==============================] - 28s 18ms/step - loss: 1.3640 - accuracy: 0.0975 - val_loss: 1.1126 - val_accuracy: 0.1001\n",
            "Epoch 9/10\n",
            "1563/1563 [==============================] - 28s 18ms/step - loss: 1.3300 - accuracy: 0.0967 - val_loss: 1.0833 - val_accuracy: 0.1021\n",
            "Epoch 10/10\n",
            "1563/1563 [==============================] - 28s 18ms/step - loss: 1.3130 - accuracy: 0.0978 - val_loss: 1.0506 - val_accuracy: 0.0871\n"
          ],
          "name": "stdout"
        }
      ]
    },
    {
      "cell_type": "code",
      "metadata": {
        "colab": {
          "base_uri": "https://localhost:8080/",
          "height": 313
        },
        "id": "EH-sYm2-i15W",
        "outputId": "0fd36f70-5564-4150-d6a2-a8ae9d38ba5e"
      },
      "source": [
        "#Evaluate the model\n",
        "plt.plot(history.history['accuracy'], label='train_accuracy')\n",
        "plt.plot(history.history['val_accuracy'], label = 'val_accuracy')\n",
        "plt.xlabel('Epoch')\n",
        "plt.ylabel('accuracy')\n",
        "#plt.ylim([0.3, 1.0])\n",
        "plt.legend(loc='lower right')\n",
        "plt.savefig('pointe.png')\n",
        "test_loss, test_acc = model.evaluate(test_images,  test_labels, verbose=2)"
      ],
      "execution_count": null,
      "outputs": [
        {
          "output_type": "stream",
          "text": [
            "313/313 - 1s - loss: 0.8623 - accuracy: 0.0996\n"
          ],
          "name": "stdout"
        },
        {
          "output_type": "display_data",
          "data": {
            "image/png": "[encoded data removed]",
            "text/plain": [
              "<Figure size 432x288 with 1 Axes>"
            ]
          },
          "metadata": {
            "tags": [],
            "needs_background": "light"
          }
        }
      ]
    },
    {
      "cell_type": "code",
      "metadata": {
        "id": "oLK9LX6gv-G0"
      },
      "source": [
        "# point(f)\n",
        "import tensorflow as tf\n",
        "from tensorflow.keras import datasets, layers, models\n",
        "from tensorflow.keras.preprocessing.image import ImageDataGenerator\n",
        "import matplotlib.pyplot as plt\n",
        "\n",
        "def load_data():\n",
        "  (train_images, train_labels), (test_images, test_labels) = datasets.cifar10.load_data()\n",
        "  # Normalize pixel values to be between 0 and 1\n",
        "  train_images, test_images = train_images / 255.0, test_images / 255.0\n",
        "  return train_images, train_labels, test_images, test_labels\n",
        "\n",
        "\n",
        "def define_model(train_images, train_labels, test_images, test_labels, epochs, Dropout = False, data_augmentation = False):\n",
        "\n",
        "  aug = ImageDataGenerator(\n",
        "\trotation_range=20,\n",
        "\tzoom_range=0.15,\n",
        "\twidth_shift_range=0.2,\n",
        "\theight_shift_range=0.2,\n",
        "\tshear_range=0.15, horizontal_flip=True)\n",
        "\n",
        "  model = models.Sequential()\n",
        "  #block_1\n",
        "  model.add(layers.Conv2D(filters=32, kernel_size = 2, padding = 'same',activation = 'relu',input_shape=(32,32,3)))\n",
        "  model.add(layers.MaxPooling2D(pool_size=2))\n",
        "\n",
        "  #block_2\n",
        "  model.add(layers.Conv2D(filters=64, kernel_size = 2, padding = 'same',activation = 'relu'))\n",
        "  model.add(layers.MaxPooling2D(pool_size=2))\n",
        "\n",
        "  \n",
        "  if(Dropout == True):\n",
        "    #block_3\n",
        "    model.add(layers.Conv2D(filters=128, kernel_size = 2, padding = 'same',activation = 'relu'))\n",
        "    model.add(layers.MaxPooling2D(pool_size=2))\n",
        "    model.add(layers.Dropout(0.5))\n",
        "    #block_4\n",
        "    model.add(layers.Flatten())\n",
        "    model.add(layers.Dense(128,activation='relu'))\n",
        "    model.add(layers.Dropout(0.5))\n",
        "    model.add(layers.Dense(10,activation='softmax')) \n",
        "\n",
        "  \n",
        "  else:\n",
        "    #block_3\n",
        "    model.add(layers.Conv2D(filters=128, kernel_size = 2, padding = 'same',activation = 'relu'))\n",
        "    model.add(layers.MaxPooling2D(pool_size=2))\n",
        "    #blcok_4\n",
        "    model.add(layers.Flatten())\n",
        "    model.add(layers.Dense(128,activation='relu'))\n",
        "    model.add(layers.Dense(10,activation='softmax'))\n",
        "\n",
        "  #Compile the model\n",
        "  model.compile(optimizer=tf.keras.optimizers.SGD(\n",
        "  learning_rate=0.1, momentum=0.0, nesterov=True, name='SGD'),\n",
        "  loss=tf.keras.losses.SparseCategoricalCrossentropy(from_logits=False),metrics=['accuracy'])\n",
        "\n",
        "  #train the model\n",
        "  if(data_augmentation == True):\n",
        "    history = model.fit(aug.flow(train_images, train_labels), epochs=epochs, \n",
        "                      validation_data=(test_images, test_labels))\n",
        "  else:\n",
        "    history = model.fit(train_images, train_labels, epochs=epochs, \n",
        "                      validation_data=(test_images, test_labels))\n",
        "  return history, model\n"
      ],
      "execution_count": 1,
      "outputs": []
    },
    {
      "cell_type": "code",
      "metadata": {
        "colab": {
          "base_uri": "https://localhost:8080/"
        },
        "id": "as5ZIikv2Z9S",
        "outputId": "a5454eb2-e14e-4e34-f92e-0f7129c878c2"
      },
      "source": [
        "# without dropout & data augmentation\n",
        "\n",
        "#load data\n",
        "train_images, train_labels, test_images, test_labels = load_data()\n",
        "\n",
        "history, model=define_model(train_images, train_labels, test_images, test_labels, 45, Dropout = False, data_augmentation = False)"
      ],
      "execution_count": 3,
      "outputs": [
        {
          "output_type": "stream",
          "text": [
            "Epoch 1/45\n",
            "1563/1563 [==============================] - 38s 5ms/step - loss: 1.6888 - accuracy: 0.3884 - val_loss: 1.3265 - val_accuracy: 0.5202\n",
            "Epoch 2/45\n",
            "1563/1563 [==============================] - 7s 4ms/step - loss: 1.2453 - accuracy: 0.5547 - val_loss: 1.2088 - val_accuracy: 0.5729\n",
            "Epoch 3/45\n",
            "1563/1563 [==============================] - 7s 4ms/step - loss: 1.0457 - accuracy: 0.6283 - val_loss: 1.0120 - val_accuracy: 0.6384\n",
            "Epoch 4/45\n",
            "1563/1563 [==============================] - 8s 5ms/step - loss: 0.9046 - accuracy: 0.6807 - val_loss: 1.0495 - val_accuracy: 0.6310\n",
            "Epoch 5/45\n",
            "1563/1563 [==============================] - 7s 4ms/step - loss: 0.7963 - accuracy: 0.7182 - val_loss: 0.9721 - val_accuracy: 0.6697\n",
            "Epoch 6/45\n",
            "1563/1563 [==============================] - 7s 4ms/step - loss: 0.7074 - accuracy: 0.7517 - val_loss: 0.8857 - val_accuracy: 0.7002\n",
            "Epoch 7/45\n",
            "1563/1563 [==============================] - 7s 4ms/step - loss: 0.6332 - accuracy: 0.7771 - val_loss: 0.9713 - val_accuracy: 0.6948\n",
            "Epoch 8/45\n",
            "1563/1563 [==============================] - 7s 5ms/step - loss: 0.5593 - accuracy: 0.8003 - val_loss: 0.9947 - val_accuracy: 0.6806\n",
            "Epoch 9/45\n",
            "1563/1563 [==============================] - 7s 5ms/step - loss: 0.4957 - accuracy: 0.8237 - val_loss: 1.0353 - val_accuracy: 0.6787\n",
            "Epoch 10/45\n",
            "1563/1563 [==============================] - 7s 5ms/step - loss: 0.4418 - accuracy: 0.8431 - val_loss: 1.0939 - val_accuracy: 0.6727\n",
            "Epoch 11/45\n",
            "1563/1563 [==============================] - 7s 4ms/step - loss: 0.3946 - accuracy: 0.8599 - val_loss: 1.3696 - val_accuracy: 0.6430\n",
            "Epoch 12/45\n",
            "1563/1563 [==============================] - 7s 5ms/step - loss: 0.3603 - accuracy: 0.8710 - val_loss: 1.1976 - val_accuracy: 0.6871\n",
            "Epoch 13/45\n",
            "1563/1563 [==============================] - 7s 5ms/step - loss: 0.3328 - accuracy: 0.8829 - val_loss: 1.1942 - val_accuracy: 0.6906\n",
            "Epoch 14/45\n",
            "1563/1563 [==============================] - 7s 4ms/step - loss: 0.2994 - accuracy: 0.8941 - val_loss: 1.4098 - val_accuracy: 0.6734\n",
            "Epoch 15/45\n",
            "1563/1563 [==============================] - 7s 4ms/step - loss: 0.2929 - accuracy: 0.8976 - val_loss: 1.4038 - val_accuracy: 0.6921\n",
            "Epoch 16/45\n",
            "1563/1563 [==============================] - 7s 4ms/step - loss: 0.2702 - accuracy: 0.9050 - val_loss: 1.3515 - val_accuracy: 0.7023\n",
            "Epoch 17/45\n",
            "1563/1563 [==============================] - 7s 4ms/step - loss: 0.2592 - accuracy: 0.9093 - val_loss: 1.9983 - val_accuracy: 0.6308\n",
            "Epoch 18/45\n",
            "1563/1563 [==============================] - 7s 4ms/step - loss: 0.2401 - accuracy: 0.9181 - val_loss: 1.5815 - val_accuracy: 0.6860\n",
            "Epoch 19/45\n",
            "1563/1563 [==============================] - 7s 4ms/step - loss: 0.2479 - accuracy: 0.9158 - val_loss: 1.5968 - val_accuracy: 0.6857\n",
            "Epoch 20/45\n",
            "1563/1563 [==============================] - 7s 4ms/step - loss: 0.2368 - accuracy: 0.9198 - val_loss: 1.5823 - val_accuracy: 0.6785\n",
            "Epoch 21/45\n",
            "1563/1563 [==============================] - 7s 4ms/step - loss: 0.2342 - accuracy: 0.9212 - val_loss: 1.7315 - val_accuracy: 0.6805\n",
            "Epoch 22/45\n",
            "1563/1563 [==============================] - 7s 4ms/step - loss: 0.2190 - accuracy: 0.9281 - val_loss: 2.0940 - val_accuracy: 0.6535\n",
            "Epoch 23/45\n",
            "1563/1563 [==============================] - 7s 4ms/step - loss: 0.2244 - accuracy: 0.9255 - val_loss: 1.7326 - val_accuracy: 0.6869\n",
            "Epoch 24/45\n",
            "1563/1563 [==============================] - 7s 4ms/step - loss: 0.2196 - accuracy: 0.9271 - val_loss: 1.9097 - val_accuracy: 0.6711\n",
            "Epoch 25/45\n",
            "1563/1563 [==============================] - 7s 4ms/step - loss: 0.2224 - accuracy: 0.9284 - val_loss: 1.9312 - val_accuracy: 0.6800\n",
            "Epoch 26/45\n",
            "1563/1563 [==============================] - 7s 4ms/step - loss: 0.2267 - accuracy: 0.9275 - val_loss: 1.8951 - val_accuracy: 0.6854\n",
            "Epoch 27/45\n",
            "1563/1563 [==============================] - 7s 5ms/step - loss: 0.2248 - accuracy: 0.9287 - val_loss: 2.0964 - val_accuracy: 0.6776\n",
            "Epoch 28/45\n",
            "1563/1563 [==============================] - 7s 5ms/step - loss: 0.2325 - accuracy: 0.9261 - val_loss: 2.0290 - val_accuracy: 0.6711\n",
            "Epoch 29/45\n",
            "1563/1563 [==============================] - 7s 4ms/step - loss: 0.2183 - accuracy: 0.9308 - val_loss: 2.2806 - val_accuracy: 0.6770\n",
            "Epoch 30/45\n",
            "1563/1563 [==============================] - 7s 4ms/step - loss: 0.2183 - accuracy: 0.9311 - val_loss: 2.2283 - val_accuracy: 0.6669\n",
            "Epoch 31/45\n",
            "1563/1563 [==============================] - 7s 4ms/step - loss: 0.2167 - accuracy: 0.9337 - val_loss: 2.1025 - val_accuracy: 0.6736\n",
            "Epoch 32/45\n",
            "1563/1563 [==============================] - 7s 4ms/step - loss: 0.2341 - accuracy: 0.9290 - val_loss: 2.3846 - val_accuracy: 0.6717\n",
            "Epoch 33/45\n",
            "1563/1563 [==============================] - 7s 4ms/step - loss: 0.2204 - accuracy: 0.9325 - val_loss: 2.4984 - val_accuracy: 0.6483\n",
            "Epoch 34/45\n",
            "1563/1563 [==============================] - 7s 4ms/step - loss: 0.2376 - accuracy: 0.9290 - val_loss: 2.3557 - val_accuracy: 0.6705\n",
            "Epoch 35/45\n",
            "1563/1563 [==============================] - 7s 5ms/step - loss: 0.2354 - accuracy: 0.9292 - val_loss: 2.2682 - val_accuracy: 0.6668\n",
            "Epoch 36/45\n",
            "1563/1563 [==============================] - 7s 4ms/step - loss: 0.2355 - accuracy: 0.9317 - val_loss: 2.4314 - val_accuracy: 0.6725\n",
            "Epoch 37/45\n",
            "1563/1563 [==============================] - 7s 4ms/step - loss: 0.2262 - accuracy: 0.9335 - val_loss: 3.3963 - val_accuracy: 0.5899\n",
            "Epoch 38/45\n",
            "1563/1563 [==============================] - 7s 4ms/step - loss: 0.2698 - accuracy: 0.9235 - val_loss: 2.5590 - val_accuracy: 0.6601\n",
            "Epoch 39/45\n",
            "1563/1563 [==============================] - 7s 4ms/step - loss: 0.2352 - accuracy: 0.9311 - val_loss: 2.3579 - val_accuracy: 0.6660\n",
            "Epoch 40/45\n",
            "1563/1563 [==============================] - 7s 4ms/step - loss: 0.2414 - accuracy: 0.9314 - val_loss: 2.6001 - val_accuracy: 0.6609\n",
            "Epoch 41/45\n",
            "1563/1563 [==============================] - 7s 4ms/step - loss: 0.2564 - accuracy: 0.9281 - val_loss: 2.7795 - val_accuracy: 0.6528\n",
            "Epoch 42/45\n",
            "1563/1563 [==============================] - 7s 5ms/step - loss: 0.2556 - accuracy: 0.9256 - val_loss: 2.7455 - val_accuracy: 0.6564\n",
            "Epoch 43/45\n",
            "1563/1563 [==============================] - 7s 4ms/step - loss: 0.2866 - accuracy: 0.9220 - val_loss: 2.5397 - val_accuracy: 0.6716\n",
            "Epoch 44/45\n",
            "1563/1563 [==============================] - 7s 4ms/step - loss: 0.2602 - accuracy: 0.9274 - val_loss: 2.6997 - val_accuracy: 0.6572\n",
            "Epoch 45/45\n",
            "1563/1563 [==============================] - 7s 4ms/step - loss: 0.2893 - accuracy: 0.9225 - val_loss: 2.8987 - val_accuracy: 0.6320\n"
          ],
          "name": "stdout"
        }
      ]
    },
    {
      "cell_type": "code",
      "metadata": {
        "colab": {
          "base_uri": "https://localhost:8080/",
          "height": 313
        },
        "id": "Eq8mhcWJQkQM",
        "outputId": "feb9cb70-788f-4ed1-c3e4-80650c7f2a06"
      },
      "source": [
        "#Evaluate the model\n",
        "plt.plot(history.history['accuracy'], label='train_accuracy')\n",
        "plt.plot(history.history['val_accuracy'], label = 'val_accuracy')\n",
        "plt.xlabel('Epoch')\n",
        "plt.ylabel('accuracy')\n",
        "#plt.ylim([0.3, 1.0])\n",
        "plt.legend(loc='lower right')\n",
        "plt.savefig('pointf_witout aug&dropout.png')\n",
        "test_loss, test_acc = model.evaluate(test_images,  test_labels, verbose=2)"
      ],
      "execution_count": null,
      "outputs": [
        {
          "output_type": "stream",
          "text": [
            "313/313 - 1s - loss: 2.5789 - accuracy: 0.6645\n"
          ],
          "name": "stdout"
        },
        {
          "output_type": "display_data",
          "data": {
            "image/png": "[encoded data removed]",
            "text/plain": [
              "<Figure size 432x288 with 1 Axes>"
            ]
          },
          "metadata": {
            "tags": [],
            "needs_background": "light"
          }
        }
      ]
    },
    {
      "cell_type": "code",
      "metadata": {
        "colab": {
          "base_uri": "https://localhost:8080/"
        },
        "id": "lzvIWyDkuQ9n",
        "outputId": "640d5093-bd5b-49e8-b351-5fe3a9e1956d"
      },
      "source": [
        "## with dropout only\n",
        "\n",
        "#load data\n",
        "train_images, train_labels, test_images, test_labels = load_data()\n",
        "\n",
        "history, model=define_model(train_images, train_labels, test_images, test_labels, 45, Dropout = True, data_augmentation = False)\n"
      ],
      "execution_count": 2,
      "outputs": [
        {
          "output_type": "stream",
          "text": [
            "Epoch 1/45\n",
            "1563/1563 [==============================] - 39s 5ms/step - loss: 1.9103 - accuracy: 0.2947 - val_loss: 1.6268 - val_accuracy: 0.4122\n",
            "Epoch 2/45\n",
            "1563/1563 [==============================] - 7s 4ms/step - loss: 1.5505 - accuracy: 0.4327 - val_loss: 1.4144 - val_accuracy: 0.4802\n",
            "Epoch 3/45\n",
            "1563/1563 [==============================] - 7s 4ms/step - loss: 1.4197 - accuracy: 0.4856 - val_loss: 1.2004 - val_accuracy: 0.5719\n",
            "Epoch 4/45\n",
            "1563/1563 [==============================] - 7s 4ms/step - loss: 1.3281 - accuracy: 0.5235 - val_loss: 1.2378 - val_accuracy: 0.5546\n",
            "Epoch 5/45\n",
            "1563/1563 [==============================] - 7s 4ms/step - loss: 1.2602 - accuracy: 0.5465 - val_loss: 1.0789 - val_accuracy: 0.6147\n",
            "Epoch 6/45\n",
            "1563/1563 [==============================] - 7s 4ms/step - loss: 1.2123 - accuracy: 0.5673 - val_loss: 1.0574 - val_accuracy: 0.6222\n",
            "Epoch 7/45\n",
            "1563/1563 [==============================] - 7s 4ms/step - loss: 1.1583 - accuracy: 0.5904 - val_loss: 0.9777 - val_accuracy: 0.6539\n",
            "Epoch 8/45\n",
            "1563/1563 [==============================] - 7s 4ms/step - loss: 1.1289 - accuracy: 0.5960 - val_loss: 0.9642 - val_accuracy: 0.6658\n",
            "Epoch 9/45\n",
            "1563/1563 [==============================] - 7s 5ms/step - loss: 1.1132 - accuracy: 0.6070 - val_loss: 0.9758 - val_accuracy: 0.6620\n",
            "Epoch 10/45\n",
            "1563/1563 [==============================] - 7s 5ms/step - loss: 1.0840 - accuracy: 0.6191 - val_loss: 1.0027 - val_accuracy: 0.6553\n",
            "Epoch 11/45\n",
            "1563/1563 [==============================] - 7s 5ms/step - loss: 1.0648 - accuracy: 0.6237 - val_loss: 0.9350 - val_accuracy: 0.6735\n",
            "Epoch 12/45\n",
            "1563/1563 [==============================] - 7s 5ms/step - loss: 1.0480 - accuracy: 0.6312 - val_loss: 0.9410 - val_accuracy: 0.6749\n",
            "Epoch 13/45\n",
            "1563/1563 [==============================] - 8s 5ms/step - loss: 1.0342 - accuracy: 0.6383 - val_loss: 0.9176 - val_accuracy: 0.6767\n",
            "Epoch 14/45\n",
            "1563/1563 [==============================] - 7s 5ms/step - loss: 1.0191 - accuracy: 0.6429 - val_loss: 0.8803 - val_accuracy: 0.6926\n",
            "Epoch 15/45\n",
            "1563/1563 [==============================] - 8s 5ms/step - loss: 1.0059 - accuracy: 0.6469 - val_loss: 0.8791 - val_accuracy: 0.6954\n",
            "Epoch 16/45\n",
            "1563/1563 [==============================] - 7s 5ms/step - loss: 0.9951 - accuracy: 0.6503 - val_loss: 0.8798 - val_accuracy: 0.7001\n",
            "Epoch 17/45\n",
            "1563/1563 [==============================] - 7s 5ms/step - loss: 1.0007 - accuracy: 0.6505 - val_loss: 1.0576 - val_accuracy: 0.6298\n",
            "Epoch 18/45\n",
            "1563/1563 [==============================] - 7s 5ms/step - loss: 0.9804 - accuracy: 0.6566 - val_loss: 0.8761 - val_accuracy: 0.6930\n",
            "Epoch 19/45\n",
            "1563/1563 [==============================] - 8s 5ms/step - loss: 0.9744 - accuracy: 0.6588 - val_loss: 0.9282 - val_accuracy: 0.6716\n",
            "Epoch 20/45\n",
            "1563/1563 [==============================] - 8s 5ms/step - loss: 0.9628 - accuracy: 0.6644 - val_loss: 0.8700 - val_accuracy: 0.7019\n",
            "Epoch 21/45\n",
            "1563/1563 [==============================] - 7s 5ms/step - loss: 0.9527 - accuracy: 0.6700 - val_loss: 0.8466 - val_accuracy: 0.7084\n",
            "Epoch 22/45\n",
            "1563/1563 [==============================] - 7s 5ms/step - loss: 0.9567 - accuracy: 0.6651 - val_loss: 0.9532 - val_accuracy: 0.6628\n",
            "Epoch 23/45\n",
            "1563/1563 [==============================] - 7s 5ms/step - loss: 0.9460 - accuracy: 0.6674 - val_loss: 0.8637 - val_accuracy: 0.6975\n",
            "Epoch 24/45\n",
            "1563/1563 [==============================] - 7s 5ms/step - loss: 0.9349 - accuracy: 0.6732 - val_loss: 0.8964 - val_accuracy: 0.6895\n",
            "Epoch 25/45\n",
            "1563/1563 [==============================] - 7s 5ms/step - loss: 0.9383 - accuracy: 0.6730 - val_loss: 0.9446 - val_accuracy: 0.6767\n",
            "Epoch 26/45\n",
            "1563/1563 [==============================] - 7s 5ms/step - loss: 0.9293 - accuracy: 0.6739 - val_loss: 0.9003 - val_accuracy: 0.7032\n",
            "Epoch 27/45\n",
            "1563/1563 [==============================] - 7s 5ms/step - loss: 0.9258 - accuracy: 0.6754 - val_loss: 0.8500 - val_accuracy: 0.7055\n",
            "Epoch 28/45\n",
            "1563/1563 [==============================] - 7s 5ms/step - loss: 0.9252 - accuracy: 0.6754 - val_loss: 0.8897 - val_accuracy: 0.6967\n",
            "Epoch 29/45\n",
            "1563/1563 [==============================] - 7s 5ms/step - loss: 0.9241 - accuracy: 0.6787 - val_loss: 0.8424 - val_accuracy: 0.7186\n",
            "Epoch 30/45\n",
            "1563/1563 [==============================] - 8s 5ms/step - loss: 0.9180 - accuracy: 0.6816 - val_loss: 0.8519 - val_accuracy: 0.7087\n",
            "Epoch 31/45\n",
            "1563/1563 [==============================] - 7s 5ms/step - loss: 0.9166 - accuracy: 0.6848 - val_loss: 0.8369 - val_accuracy: 0.7099\n",
            "Epoch 32/45\n",
            "1563/1563 [==============================] - 8s 5ms/step - loss: 0.9129 - accuracy: 0.6824 - val_loss: 0.8480 - val_accuracy: 0.6984\n",
            "Epoch 33/45\n",
            "1563/1563 [==============================] - 7s 5ms/step - loss: 0.9104 - accuracy: 0.6813 - val_loss: 0.8287 - val_accuracy: 0.7174\n",
            "Epoch 34/45\n",
            "1563/1563 [==============================] - 7s 5ms/step - loss: 0.9084 - accuracy: 0.6826 - val_loss: 0.9854 - val_accuracy: 0.6576\n",
            "Epoch 35/45\n",
            "1563/1563 [==============================] - 7s 5ms/step - loss: 0.9071 - accuracy: 0.6844 - val_loss: 0.8208 - val_accuracy: 0.7265\n",
            "Epoch 36/45\n",
            "1563/1563 [==============================] - 7s 5ms/step - loss: 0.8994 - accuracy: 0.6857 - val_loss: 0.8311 - val_accuracy: 0.7163\n",
            "Epoch 37/45\n",
            "1563/1563 [==============================] - 8s 5ms/step - loss: 0.8986 - accuracy: 0.6852 - val_loss: 0.8554 - val_accuracy: 0.7112\n",
            "Epoch 38/45\n",
            "1563/1563 [==============================] - 8s 5ms/step - loss: 0.8924 - accuracy: 0.6884 - val_loss: 1.8491 - val_accuracy: 0.4232\n",
            "Epoch 39/45\n",
            "1563/1563 [==============================] - 7s 5ms/step - loss: 0.8897 - accuracy: 0.6915 - val_loss: 0.9007 - val_accuracy: 0.6853\n",
            "Epoch 40/45\n",
            "1563/1563 [==============================] - 7s 5ms/step - loss: 0.8903 - accuracy: 0.6895 - val_loss: 0.8617 - val_accuracy: 0.7076\n",
            "Epoch 41/45\n",
            "1563/1563 [==============================] - 7s 5ms/step - loss: 0.8932 - accuracy: 0.6924 - val_loss: 0.8060 - val_accuracy: 0.7276\n",
            "Epoch 42/45\n",
            "1563/1563 [==============================] - 7s 5ms/step - loss: 0.8885 - accuracy: 0.6911 - val_loss: 0.8200 - val_accuracy: 0.7194\n",
            "Epoch 43/45\n",
            "1563/1563 [==============================] - 8s 5ms/step - loss: 0.8880 - accuracy: 0.6925 - val_loss: 0.8084 - val_accuracy: 0.7253\n",
            "Epoch 44/45\n",
            "1563/1563 [==============================] - 7s 5ms/step - loss: 0.8932 - accuracy: 0.6886 - val_loss: 0.8139 - val_accuracy: 0.7174\n",
            "Epoch 45/45\n",
            "1563/1563 [==============================] - 7s 5ms/step - loss: 0.8854 - accuracy: 0.6927 - val_loss: 0.9219 - val_accuracy: 0.6878\n"
          ],
          "name": "stdout"
        }
      ]
    },
    {
      "cell_type": "code",
      "metadata": {
        "colab": {
          "base_uri": "https://localhost:8080/",
          "height": 313
        },
        "id": "M1I7Vu9iy8mf",
        "outputId": "9b0f9a60-166b-42d3-b412-6012304a64cf"
      },
      "source": [
        "#Evaluate the model\n",
        "plt.plot(history.history['accuracy'], label='train_accuracy')\n",
        "plt.plot(history.history['val_accuracy'], label = 'val_accuracy')\n",
        "plt.xlabel('Epoch')\n",
        "plt.ylabel('accuracy')\n",
        "#plt.ylim([0.3, 1.0])\n",
        "plt.legend(loc='lower right')\n",
        "plt.savefig('pointf_withdropout.png')\n",
        "test_loss, test_acc = model.evaluate(test_images,  test_labels, verbose=2)"
      ],
      "execution_count": 3,
      "outputs": [
        {
          "output_type": "stream",
          "text": [
            "313/313 - 1s - loss: 0.9219 - accuracy: 0.6878\n"
          ],
          "name": "stdout"
        },
        {
          "output_type": "display_data",
          "data": {
            "image/png": "[encoded data removed]",
            "text/plain": [
              "<Figure size 432x288 with 1 Axes>"
            ]
          },
          "metadata": {
            "tags": [],
            "needs_background": "light"
          }
        }
      ]
    },
    {
      "cell_type": "code",
      "metadata": {
        "colab": {
          "base_uri": "https://localhost:8080/"
        },
        "id": "VU-qqWOf0VXU",
        "outputId": "1bbc5099-a89d-4cbe-cb6f-f7863a4f1de8"
      },
      "source": [
        "# with data augmentation\n",
        "#load data\n",
        "train_images, train_labels, test_images, test_labels = load_data()\n",
        "\n",
        "history, model=define_model(train_images, train_labels, test_images, test_labels, 45, Dropout = False, data_augmentation = True)\n"
      ],
      "execution_count": 2,
      "outputs": [
        {
          "output_type": "stream",
          "text": [
            "Epoch 1/45\n",
            "1563/1563 [==============================] - 59s 18ms/step - loss: 1.8780 - accuracy: 0.1092 - val_loss: 1.4580 - val_accuracy: 0.0513\n",
            "Epoch 2/45\n",
            "1563/1563 [==============================] - 30s 19ms/step - loss: 1.5621 - accuracy: 0.0946 - val_loss: 1.4453 - val_accuracy: 0.0591\n",
            "Epoch 3/45\n",
            "1563/1563 [==============================] - 29s 18ms/step - loss: 1.4415 - accuracy: 0.0947 - val_loss: 1.2243 - val_accuracy: 0.1052\n",
            "Epoch 4/45\n",
            "1563/1563 [==============================] - 27s 17ms/step - loss: 1.3576 - accuracy: 0.0983 - val_loss: 1.1163 - val_accuracy: 0.0859\n",
            "Epoch 5/45\n",
            "1563/1563 [==============================] - 28s 18ms/step - loss: 1.2791 - accuracy: 0.0988 - val_loss: 1.2140 - val_accuracy: 0.0985\n",
            "Epoch 6/45\n",
            "1563/1563 [==============================] - 28s 18ms/step - loss: 1.2198 - accuracy: 0.1004 - val_loss: 1.0190 - val_accuracy: 0.1167\n",
            "Epoch 7/45\n",
            "1563/1563 [==============================] - 28s 18ms/step - loss: 1.1731 - accuracy: 0.1002 - val_loss: 0.9989 - val_accuracy: 0.0827\n",
            "Epoch 8/45\n",
            "1563/1563 [==============================] - 28s 18ms/step - loss: 1.1302 - accuracy: 0.1007 - val_loss: 1.0214 - val_accuracy: 0.0823\n",
            "Epoch 9/45\n",
            "1563/1563 [==============================] - 28s 18ms/step - loss: 1.0991 - accuracy: 0.0987 - val_loss: 1.0394 - val_accuracy: 0.0797\n",
            "Epoch 10/45\n",
            "1563/1563 [==============================] - 28s 18ms/step - loss: 1.0672 - accuracy: 0.0992 - val_loss: 0.9329 - val_accuracy: 0.0977\n",
            "Epoch 11/45\n",
            "1563/1563 [==============================] - 28s 18ms/step - loss: 1.0464 - accuracy: 0.1002 - val_loss: 0.9336 - val_accuracy: 0.1068\n",
            "Epoch 12/45\n",
            "1563/1563 [==============================] - 28s 18ms/step - loss: 1.0194 - accuracy: 0.0993 - val_loss: 0.9019 - val_accuracy: 0.0958\n",
            "Epoch 13/45\n",
            "1563/1563 [==============================] - 28s 18ms/step - loss: 1.0021 - accuracy: 0.1003 - val_loss: 0.9279 - val_accuracy: 0.1022\n",
            "Epoch 14/45\n",
            "1563/1563 [==============================] - 28s 18ms/step - loss: 0.9905 - accuracy: 0.1004 - val_loss: 0.9184 - val_accuracy: 0.0948\n",
            "Epoch 15/45\n",
            "1563/1563 [==============================] - 28s 18ms/step - loss: 0.9742 - accuracy: 0.1009 - val_loss: 0.8580 - val_accuracy: 0.1202\n",
            "Epoch 16/45\n",
            "1563/1563 [==============================] - 29s 18ms/step - loss: 0.9573 - accuracy: 0.1007 - val_loss: 0.9412 - val_accuracy: 0.0885\n",
            "Epoch 17/45\n",
            "1563/1563 [==============================] - 28s 18ms/step - loss: 0.9509 - accuracy: 0.1016 - val_loss: 0.8375 - val_accuracy: 0.0921\n",
            "Epoch 18/45\n",
            "1563/1563 [==============================] - 28s 18ms/step - loss: 0.9364 - accuracy: 0.1000 - val_loss: 0.8733 - val_accuracy: 0.1006\n",
            "Epoch 19/45\n",
            "1563/1563 [==============================] - 28s 18ms/step - loss: 0.9221 - accuracy: 0.1005 - val_loss: 0.8251 - val_accuracy: 0.0774\n",
            "Epoch 20/45\n",
            "1563/1563 [==============================] - 28s 18ms/step - loss: 0.9142 - accuracy: 0.1024 - val_loss: 0.8617 - val_accuracy: 0.0842\n",
            "Epoch 21/45\n",
            "1563/1563 [==============================] - 28s 18ms/step - loss: 0.9083 - accuracy: 0.1013 - val_loss: 0.8566 - val_accuracy: 0.1033\n",
            "Epoch 22/45\n",
            "1563/1563 [==============================] - 28s 18ms/step - loss: 0.8985 - accuracy: 0.1014 - val_loss: 0.8394 - val_accuracy: 0.1261\n",
            "Epoch 23/45\n",
            "1563/1563 [==============================] - 28s 18ms/step - loss: 0.8903 - accuracy: 0.1010 - val_loss: 0.8341 - val_accuracy: 0.1038\n",
            "Epoch 24/45\n",
            "1563/1563 [==============================] - 28s 18ms/step - loss: 0.8819 - accuracy: 0.1006 - val_loss: 0.8441 - val_accuracy: 0.1089\n",
            "Epoch 25/45\n",
            "1563/1563 [==============================] - 28s 18ms/step - loss: 0.8773 - accuracy: 0.1023 - val_loss: 0.8523 - val_accuracy: 0.0931\n",
            "Epoch 26/45\n",
            "1563/1563 [==============================] - 28s 18ms/step - loss: 0.8680 - accuracy: 0.1019 - val_loss: 0.7527 - val_accuracy: 0.0799\n",
            "Epoch 27/45\n",
            "1563/1563 [==============================] - 28s 18ms/step - loss: 0.8614 - accuracy: 0.1013 - val_loss: 0.7805 - val_accuracy: 0.1004\n",
            "Epoch 28/45\n",
            "1563/1563 [==============================] - 29s 18ms/step - loss: 0.8597 - accuracy: 0.1016 - val_loss: 0.7720 - val_accuracy: 0.1155\n",
            "Epoch 29/45\n",
            "1563/1563 [==============================] - 28s 18ms/step - loss: 0.8553 - accuracy: 0.1026 - val_loss: 0.7703 - val_accuracy: 0.0869\n",
            "Epoch 30/45\n",
            "1563/1563 [==============================] - 28s 18ms/step - loss: 0.8514 - accuracy: 0.1023 - val_loss: 0.7773 - val_accuracy: 0.0886\n",
            "Epoch 31/45\n",
            "1563/1563 [==============================] - 28s 18ms/step - loss: 0.8454 - accuracy: 0.1007 - val_loss: 0.7983 - val_accuracy: 0.1036\n",
            "Epoch 32/45\n",
            "1563/1563 [==============================] - 28s 18ms/step - loss: 0.8458 - accuracy: 0.1016 - val_loss: 0.7733 - val_accuracy: 0.0983\n",
            "Epoch 33/45\n",
            "1563/1563 [==============================] - 29s 18ms/step - loss: 0.8371 - accuracy: 0.1028 - val_loss: 0.7118 - val_accuracy: 0.1124\n",
            "Epoch 34/45\n",
            "1563/1563 [==============================] - 28s 18ms/step - loss: 0.8342 - accuracy: 0.1025 - val_loss: 0.8031 - val_accuracy: 0.1112\n",
            "Epoch 35/45\n",
            "1563/1563 [==============================] - 28s 18ms/step - loss: 0.8227 - accuracy: 0.1018 - val_loss: 0.7606 - val_accuracy: 0.0992\n",
            "Epoch 36/45\n",
            "1563/1563 [==============================] - 28s 18ms/step - loss: 0.8227 - accuracy: 0.1019 - val_loss: 0.7490 - val_accuracy: 0.1059\n",
            "Epoch 37/45\n",
            "1563/1563 [==============================] - 28s 18ms/step - loss: 0.8282 - accuracy: 0.1016 - val_loss: 0.7601 - val_accuracy: 0.0958\n",
            "Epoch 38/45\n",
            "1563/1563 [==============================] - 28s 18ms/step - loss: 0.8149 - accuracy: 0.1014 - val_loss: 0.7685 - val_accuracy: 0.1306\n",
            "Epoch 39/45\n",
            "1563/1563 [==============================] - 28s 18ms/step - loss: 0.8144 - accuracy: 0.1012 - val_loss: 0.7602 - val_accuracy: 0.1085\n",
            "Epoch 40/45\n",
            "1563/1563 [==============================] - 28s 18ms/step - loss: 0.8044 - accuracy: 0.1020 - val_loss: 0.7007 - val_accuracy: 0.1034\n",
            "Epoch 41/45\n",
            "1563/1563 [==============================] - 28s 18ms/step - loss: 0.8058 - accuracy: 0.1008 - val_loss: 0.7427 - val_accuracy: 0.1172\n",
            "Epoch 42/45\n",
            "1563/1563 [==============================] - 28s 18ms/step - loss: 0.8094 - accuracy: 0.1002 - val_loss: 0.8120 - val_accuracy: 0.1001\n",
            "Epoch 43/45\n",
            "1563/1563 [==============================] - 28s 18ms/step - loss: 0.8040 - accuracy: 0.1021 - val_loss: 0.8029 - val_accuracy: 0.1076\n",
            "Epoch 44/45\n",
            "1563/1563 [==============================] - 28s 18ms/step - loss: 0.8026 - accuracy: 0.1026 - val_loss: 0.7964 - val_accuracy: 0.0947\n",
            "Epoch 45/45\n",
            "1563/1563 [==============================] - 28s 18ms/step - loss: 0.7986 - accuracy: 0.1024 - val_loss: 0.7179 - val_accuracy: 0.1056\n"
          ],
          "name": "stdout"
        }
      ]
    },
    {
      "cell_type": "code",
      "metadata": {
        "colab": {
          "base_uri": "https://localhost:8080/",
          "height": 313
        },
        "id": "PHb4OP829dzJ",
        "outputId": "8c29a94a-09a1-40b1-eb93-d2cfd6001eb8"
      },
      "source": [
        "#Evaluate the model\n",
        "plt.plot(history.history['accuracy'], label='train_accuracy')\n",
        "plt.plot(history.history['val_accuracy'], label = 'val_accuracy')\n",
        "plt.xlabel('Epoch')\n",
        "plt.ylabel('accuracy')\n",
        "#plt.ylim([0.3, 1.0])\n",
        "plt.legend(loc='lower right')\n",
        "plt.savefig('pointf_with_aug.png')\n",
        "test_loss, test_acc = model.evaluate(test_images,  test_labels, verbose=2)"
      ],
      "execution_count": 4,
      "outputs": [
        {
          "output_type": "stream",
          "text": [
            "313/313 - 1s - loss: 0.7179 - accuracy: 0.1056\n"
          ],
          "name": "stdout"
        },
        {
          "output_type": "display_data",
          "data": {
            "image/png": "[encoded data removed]",
            "text/plain": [
              "<Figure size 432x288 with 1 Axes>"
            ]
          },
          "metadata": {
            "tags": [],
            "needs_background": "light"
          }
        }
      ]
    }
  ]
}